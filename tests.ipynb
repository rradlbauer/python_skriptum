{
 "cells": [
  {
   "cell_type": "markdown",
   "source": [],
   "metadata": {
    "collapsed": false
   }
  },
  {
   "cell_type": "code",
   "execution_count": 75,
   "outputs": [],
   "source": [
    "import time\n",
    "\n",
    "import numpy as np\n",
    "import pyaudio\n",
    "\n",
    "p = pyaudio.PyAudio()\n",
    "\n",
    "volume = 0.1  # range [0.0, 1.0]\n",
    "fs = 44100  # sampling rate, Hz, must be integer\n",
    "duration = 2.0  # in seconds, may be float\n",
    "f = 440.0  # sine frequency, Hz, may be float\n",
    "\n",
    "# generate samples, note conversion to float32 array\n",
    "signal = (np.sin(2 * np.pi * np.arange(fs * duration) * f / fs)).astype(np.float32)\n",
    "\n",
    "stereo_signal_l = np.zeros([len(signal), 2])\n",
    "stereo_signal_l[:, 0] = signal[:]\n",
    "stereo_signal_r = np.zeros([len(signal), 2])\n",
    "stereo_signal_r[:, 1] = signal[:]\n",
    "\n",
    "\n",
    "output_bytes_l = (volume * stereo_signal_l).astype(np.float32).tobytes()\n",
    "output_bytes_r = (volume * stereo_signal_r).astype(np.float32).tobytes()"
   ],
   "metadata": {
    "collapsed": false
   }
  },
  {
   "cell_type": "code",
   "execution_count": 76,
   "outputs": [
    {
     "name": "stdout",
     "output_type": "stream",
     "text": [
      "Played sound for 4.04 seconds\n"
     ]
    }
   ],
   "source": [
    "# for paFloat32 sample values must be in range [-1.0, 1.0]\n",
    "stream = p.open(format=pyaudio.paFloat32,\n",
    "                channels=2,\n",
    "                rate=fs,\n",
    "                output=True)\n",
    "\n",
    "start_time = time.time()\n",
    "stream.write(output_bytes_l)\n",
    "stream.write(output_bytes_r)\n",
    "print(\"Played sound for {:.2f} seconds\".format(time.time() - start_time))\n",
    "\n",
    "stream.stop_stream()\n",
    "stream.close()\n",
    "\n",
    "p.terminate()"
   ],
   "metadata": {
    "collapsed": false
   }
  },
  {
   "cell_type": "code",
   "execution_count": 78,
   "outputs": [
    {
     "data": {
      "text/plain": "0.25881904510252074"
     },
     "execution_count": 78,
     "metadata": {},
     "output_type": "execute_result"
    }
   ],
   "source": [
    "import math\n",
    "math.sin(15*math.pi/180)"
   ],
   "metadata": {
    "collapsed": false
   }
  },
  {
   "cell_type": "code",
   "execution_count": null,
   "outputs": [],
   "source": [],
   "metadata": {
    "collapsed": false
   }
  }
 ],
 "metadata": {
  "kernelspec": {
   "display_name": "Python 3",
   "language": "python",
   "name": "python3"
  },
  "language_info": {
   "codemirror_mode": {
    "name": "ipython",
    "version": 2
   },
   "file_extension": ".py",
   "mimetype": "text/x-python",
   "name": "python",
   "nbconvert_exporter": "python",
   "pygments_lexer": "ipython2",
   "version": "2.7.6"
  }
 },
 "nbformat": 4,
 "nbformat_minor": 0
}
