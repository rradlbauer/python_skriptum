{
 "cells": [
  {
   "cell_type": "markdown",
   "source": [
    "$$\n",
    "n = n_0 \\cdot (1 + \\frac{p}{100})^t\n",
    "$$"
   ],
   "metadata": {
    "collapsed": false
   }
  },
  {
   "cell_type": "markdown",
   "source": [
    "$a_0 = 0$<br/>\n",
    "$a_1 = 1$<br/>\n",
    "$a_2 = a_0 + a_1 = 1$<br/>\n",
    "$a_3 = a_1 + a_2 = 2$<br/>\n",
    "$a_4 = a_2 + a_3 = 3$<br/>\n",
    "..."
   ],
   "metadata": {
    "collapsed": false
   }
  },
  {
   "cell_type": "markdown",
   "source": [
    "## [> Übungen](../uebungen/UE_C0_PythonAlsTaschenrechner.md){:target=\"_blank\"}"
   ],
   "metadata": {
    "collapsed": false
   }
  },
  {
   "cell_type": "markdown",
   "source": [],
   "metadata": {
    "collapsed": false
   }
  }
 ],
 "metadata": {
  "kernelspec": {
   "display_name": "Python 3",
   "language": "python",
   "name": "python3"
  },
  "language_info": {
   "codemirror_mode": {
    "name": "ipython",
    "version": 2
   },
   "file_extension": ".py",
   "mimetype": "text/x-python",
   "name": "python",
   "nbconvert_exporter": "python",
   "pygments_lexer": "ipython2",
   "version": "2.7.6"
  }
 },
 "nbformat": 4,
 "nbformat_minor": 0
}
