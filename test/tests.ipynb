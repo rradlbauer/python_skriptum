{
 "cells": [
  {
   "metadata": {},
   "cell_type": "markdown",
   "source": [
    "### UE_7.0_4: Spannungen berechnen\n",
    "\n",
    "Erstelle ein Skript, welches Benutzer dazu auffordert, \n",
    "die Gesamtspannung $U$ und die Widerstandswerte $R_1$ bis $R_4$ \n",
    "für diesen Schaltplan einzugeben.\n",
    "\n",
    "![img.png](../img/7.0/schaltplan.png)\n",
    "\n",
    "Das Skript soll dann die Spannungswerte $U_1$ bis $U_4$ ausgeben, welche an den jeweiligen Widerständen abfallen."
   ]
  },
  {
   "metadata": {},
   "cell_type": "markdown",
   "source": ""
  },
  {
   "metadata": {},
   "cell_type": "markdown",
   "source": [
    "Die Fläche eines Dreiecks kann mit der Formel\n",
    "$$A = \\frac{1}{2} \\cdot a \\cdot b \\cdot \\sin(\\gamma)$$\n",
    "berechnet werden."
   ]
  },
  {
   "metadata": {},
   "cell_type": "code",
   "outputs": [],
   "execution_count": null,
   "source": ""
  }
 ],
 "metadata": {
  "kernelspec": {
   "display_name": "Python 3",
   "language": "python",
   "name": "python3"
  },
  "language_info": {
   "codemirror_mode": {
    "name": "ipython",
    "version": 2
   },
   "file_extension": ".py",
   "mimetype": "text/x-python",
   "name": "python",
   "nbconvert_exporter": "python",
   "pygments_lexer": "ipython2",
   "version": "2.7.6"
  }
 },
 "nbformat": 4,
 "nbformat_minor": 0
}
